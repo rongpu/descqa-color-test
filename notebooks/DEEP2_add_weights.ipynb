{
 "cells": [
  {
   "cell_type": "code",
   "execution_count": 1,
   "metadata": {
    "collapsed": true
   },
   "outputs": [],
   "source": [
    "from __future__ import unicode_literals, absolute_import, division\n",
    "import os\n",
    "import numpy as np\n",
    "from astropy.table import Table\n",
    "import matplotlib.pyplot as plt"
   ]
  },
  {
   "cell_type": "code",
   "execution_count": 2,
   "metadata": {},
   "outputs": [
    {
     "name": "stdout",
     "output_type": "stream",
     "text": [
      "23822\n",
      "Remove DEEP3 objects because they don't have selection weights:\n",
      "16351\n",
      "Remove objects from pointing 14 because they don't have selection weights\n",
      "11939\n"
     ]
    }
   ],
   "source": [
    "deep2 = Table.read('/Users/roz18/Documents/Data/LSST_photo-z_testbed/Cross-identification/Moffat v0.6/renamed files/DEEP2_uniq_Terapix_Subaru.fits')\n",
    "print(len(deep2))\n",
    "\n",
    "print('Remove DEEP3 objects because they don\\'t have selection weights:')\n",
    "maskname = np.array(deep2['maskname'], dtype='int')\n",
    "mask = maskname<2000   # DEEP2\n",
    "deep2 = deep2[mask]\n",
    "print(len(deep2))\n",
    "\n",
    "print('Remove objects from pointing 14 because they don\\'t have selection weights')\n",
    "maskname = np.array(deep2['maskname'], dtype='int')\n",
    "mask = (maskname>=1400) & (maskname<1500)\n",
    "deep2 = deep2[~mask]\n",
    "print(len(deep2))"
   ]
  },
  {
   "cell_type": "code",
   "execution_count": 3,
   "metadata": {},
   "outputs": [
    {
     "data": {
      "text/html": [
       "&lt;Table length=5&gt;\n",
       "<table id=\"table4628829648\" class=\"table-striped table-bordered table-condensed\">\n",
       "<thead><tr><th>ra</th><th>dec</th><th>objno_deep2</th><th>ra_deep2</th><th>dec_deep2</th><th>magb</th><th>magr</th><th>magi</th><th>pgal</th><th>sfd_ebv</th><th>class</th><th>subclass</th><th>objname</th><th>maskname</th><th>slitname</th><th>date</th><th>mjd</th><th>z_raw</th><th>zhelio</th><th>z_err</th><th>rchi2</th><th>dof</th><th>vdisp</th><th>vdisp_err</th><th>zquality</th><th>egsflags</th><th>comment</th><th>m_b</th><th>ub_0</th><th>ra_cfhtls</th><th>dec_cfhtls</th><th>u</th><th>g</th><th>r</th><th>i</th><th>i2</th><th>z</th><th>uerr</th><th>gerr</th><th>rerr</th><th>ierr</th><th>i2err</th><th>zerr</th><th>u_apercor</th><th>g_apercor</th><th>r_apercor</th><th>i_apercor</th><th>i2_apercor</th><th>z_apercor</th><th>uerr_aper</th><th>gerr_aper</th><th>rerr_aper</th><th>ierr_aper</th><th>i2err_aper</th><th>zerr_aper</th><th>uerr_apercor</th><th>gerr_apercor</th><th>rerr_apercor</th><th>ierr_apercor</th><th>i2err_apercor</th><th>zerr_apercor</th><th>r_radius_arcsec</th><th>u(SExflag)</th><th>g(SExflag)</th><th>r(SExflag)</th><th>i(SExflag)</th><th>i2(SExflag)</th><th>z(SExflag)</th><th>flag_cfhtls</th><th>cfhtls_source</th><th>ra_subaru</th><th>dec_subaru</th><th>y</th><th>yerr</th><th>y_apercor</th><th>yerr_aper</th><th>yerr_apercor</th><th>y(SExflag)</th><th>y_radius_arcsec</th><th>subaru_source</th></tr></thead>\n",
       "<thead><tr><th>float64</th><th>float64</th><th>int32</th><th>float64</th><th>float64</th><th>float32</th><th>float32</th><th>float32</th><th>float32</th><th>float32</th><th>str6</th><th>str6</th><th>str10</th><th>str4</th><th>str3</th><th>str10</th><th>float32</th><th>float32</th><th>float32</th><th>float32</th><th>float32</th><th>float32</th><th>float32</th><th>float32</th><th>int16</th><th>int32</th><th>str140</th><th>float32</th><th>float32</th><th>float64</th><th>float64</th><th>float64</th><th>float64</th><th>float64</th><th>float64</th><th>float64</th><th>float64</th><th>float64</th><th>float64</th><th>float64</th><th>float64</th><th>float64</th><th>float64</th><th>float64</th><th>float64</th><th>float64</th><th>float64</th><th>float64</th><th>float64</th><th>float64</th><th>float64</th><th>float64</th><th>float64</th><th>float64</th><th>float64</th><th>float64</th><th>float64</th><th>float64</th><th>float64</th><th>float64</th><th>float64</th><th>float64</th><th>int64</th><th>int64</th><th>int64</th><th>int64</th><th>int64</th><th>int64</th><th>int64</th><th>int64</th><th>float64</th><th>float64</th><th>float64</th><th>float64</th><th>float64</th><th>float64</th><th>float64</th><th>float64</th><th>float64</th><th>int64</th></tr></thead>\n",
       "<tr><td>213.86862043497314</td><td>51.956434203508536</td><td>11001673</td><td>213.8687044783477</td><td>51.9564445854362</td><td>23.487745</td><td>23.143082</td><td>22.582092</td><td>0.9999999</td><td>0.010942866</td><td></td><td></td><td>11001673</td><td>1101</td><td>000</td><td>2003-05-06</td><td>52765.457</td><td>1.115297</td><td>1.1152613</td><td>999.9</td><td>0.6309338</td><td>57.0</td><td>999.9</td><td>999.9</td><td>2</td><td>16777216</td><td>bext, bcol, possible OII</td><td>-999.0</td><td>-999.0</td><td>213.86862043497314</td><td>51.956434203508536</td><td>23.52903924427486</td><td>23.39311450416949</td><td>23.148170282953554</td><td>22.854212353712914</td><td>-99.0</td><td>22.16237714149221</td><td>0.0678</td><td>0.04</td><td>0.0382</td><td>0.0678</td><td>-99.0</td><td>0.0623</td><td>23.54349069079335</td><td>23.43049494474694</td><td>23.100310515798256</td><td>22.768970016077514</td><td>-99.0</td><td>22.223810029073892</td><td>0.05420000106096268</td><td>0.03229999914765358</td><td>0.027899999171495438</td><td>0.04659999907016754</td><td>-99.0</td><td>0.053599998354911804</td><td>0.03963066662638412</td><td>0.04135878850823614</td><td>0.03977730995305016</td><td>0.046862986631699466</td><td>-99.0</td><td>0.043832539875471435</td><td>0.581804190158844</td><td>3</td><td>3</td><td>3</td><td>3</td><td>-99</td><td>3</td><td>0</td><td>1</td><td>213.86862568292392</td><td>51.956443047581985</td><td>21.869627064093947</td><td>0.0609184168279171</td><td>21.926356230389437</td><td>0.04195529967546463</td><td>0.14177779326130027</td><td>3.0</td><td>0.6565135717391968</td><td>1</td></tr>\n",
       "<tr><td>213.8101377123772</td><td>51.94234801594084</td><td>11001699</td><td>213.8104711304302</td><td>51.942315949116164</td><td>22.067692</td><td>20.034674</td><td>19.54508</td><td>3.0</td><td>0.011014033</td><td>GALAXY</td><td></td><td>11001699</td><td>1100</td><td>7</td><td>2003-05-03</td><td>52762.44</td><td>0.2906415</td><td>0.2906078</td><td>4.261443e-05</td><td>1.1781532</td><td>5901.0</td><td>166.33499</td><td>49.481255</td><td>4</td><td>16777216</td><td></td><td>-19.2287</td><td>1.1295</td><td>213.8101377123772</td><td>51.94234801594084</td><td>30.123756004163038</td><td>28.29848018690851</td><td>18.54035001498452</td><td>99.0</td><td>-99.0</td><td>99.0</td><td>0.0</td><td>0.0</td><td>0.0014</td><td>99.0</td><td>-99.0</td><td>99.0</td><td>30.848978314398508</td><td>28.989667864645018</td><td>19.02742213711636</td><td>99.0</td><td>-99.0</td><td>99.0</td><td>0.0</td><td>0.0</td><td>0.00279999990016222</td><td>99.0</td><td>-99.0</td><td>99.0</td><td>0.02956681382521271</td><td>0.03035296270709271</td><td>0.0275581896503705</td><td>99.0</td><td>-99.0</td><td>99.0</td><td>0.8246252889633179</td><td>19</td><td>19</td><td>19</td><td>3</td><td>-99</td><td>3</td><td>244</td><td>1</td><td>213.81045516729043</td><td>51.942321437351474</td><td>18.757229385897517</td><td>0.005813244264572859</td><td>18.811084670414644</td><td>0.00438593327999115</td><td>0.05098748914620918</td><td>3.0</td><td>0.7442689538002014</td><td>1</td></tr>\n",
       "<tr><td>213.8484088405561</td><td>51.948864964568365</td><td>11001770</td><td>213.84843111496232</td><td>51.94887606487919</td><td>24.144438</td><td>24.10318</td><td>24.020006</td><td>3.0</td><td>0.010855684</td><td>GALAXY</td><td></td><td>11001770</td><td>1101</td><td>003</td><td>2003-05-06</td><td>52765.457</td><td>0.6057793</td><td>0.60574365</td><td>-5.0</td><td>1.04726</td><td>5318.0</td><td>184.86</td><td>195.0</td><td>1</td><td>16777216</td><td></td><td>-999.0</td><td>-999.0</td><td>213.8484088405561</td><td>51.948864964568365</td><td>24.294288810615306</td><td>24.399292693947817</td><td>24.41336639154809</td><td>23.398455946890113</td><td>-99.0</td><td>24.157690011268993</td><td>0.1646</td><td>0.1383</td><td>0.2306</td><td>0.1867</td><td>-99.0</td><td>0.4558</td><td>24.32467024550092</td><td>24.273606052357028</td><td>24.150318983481835</td><td>23.446252447078184</td><td>-99.0</td><td>23.574236282560285</td><td>0.11460000276565552</td><td>0.08699999749660492</td><td>0.1242000013589859</td><td>0.13089999556541443</td><td>-99.0</td><td>0.179299995303154</td><td>0.11112687213335368</td><td>0.1301344475740169</td><td>0.12361951972080086</td><td>0.11781278748244056</td><td>-99.0</td><td>0.10105912594370425</td><td>0.728118640422821</td><td>0</td><td>0</td><td>0</td><td>0</td><td>-99</td><td>0</td><td>0</td><td>1</td><td>-99.0</td><td>-99.0</td><td>-99.0</td><td>-99.0</td><td>-99.0</td><td>-99.0</td><td>-99.0</td><td>-99.0</td><td>-99.0</td><td>-99</td></tr>\n",
       "<tr><td>213.8317847315735</td><td>51.95253867496874</td><td>11001800</td><td>213.83175805852423</td><td>51.95254838155415</td><td>25.336836</td><td>23.50848</td><td>23.081087</td><td>0.5098095</td><td>0.01082278</td><td>GALAXY</td><td></td><td>11001800</td><td>1100</td><td>004</td><td>2003-05-03</td><td>52762.44</td><td>1.3068296</td><td>1.306796</td><td>-5.0</td><td>1.0140619</td><td>5788.0</td><td>0.0</td><td>0.0</td><td>1</td><td>16777216</td><td></td><td>-999.0</td><td>-999.0</td><td>213.8317847315735</td><td>51.95253867496874</td><td>26.363820741771228</td><td>24.530997683804298</td><td>23.559140407478388</td><td>23.065110140550733</td><td>-99.0</td><td>22.73733260996356</td><td>0.9609</td><td>0.1344</td><td>0.0648</td><td>0.0997</td><td>-99.0</td><td>0.111</td><td>99.0</td><td>24.804309049746156</td><td>23.636544424372143</td><td>23.00922236586726</td><td>-99.0</td><td>22.68959143894732</td><td>99.0</td><td>0.10769999772310257</td><td>0.04259999841451645</td><td>0.0568000003695488</td><td>-99.0</td><td>0.06610000133514404</td><td>99.0</td><td>0.04652062558739294</td><td>0.04114205033808769</td><td>0.054297232265996524</td><td>-99.0</td><td>0.053818372529974255</td><td>0.5490614719390869</td><td>0</td><td>0</td><td>0</td><td>0</td><td>-99</td><td>0</td><td>0</td><td>1</td><td>213.83176591004158</td><td>51.952544156791326</td><td>22.40426907967776</td><td>0.08897022902965546</td><td>22.535599636310664</td><td>0.053496722131967545</td><td>0.094732737051171</td><td>0.0</td><td>0.4558195173740387</td><td>1</td></tr>\n",
       "<tr><td>213.8325401433694</td><td>51.95416678030584</td><td>11001860</td><td>213.8325497959</td><td>51.95417440810979</td><td>24.382738</td><td>23.401484</td><td>22.572845</td><td>3.0</td><td>0.0108265355</td><td>GALAXY</td><td></td><td>11001860</td><td>1101</td><td>10</td><td>2003-05-06</td><td>52765.457</td><td>0.95770514</td><td>0.9576695</td><td>9.874175e-05</td><td>1.0399795</td><td>5952.0</td><td>109.395</td><td>17.208755</td><td>4</td><td>16777216</td><td></td><td>-20.0832</td><td>0.7524</td><td>213.8325401433694</td><td>51.95416678030584</td><td>24.57140568414784</td><td>24.0230857032707</td><td>23.493831960382636</td><td>22.691403956568834</td><td>-99.0</td><td>22.387427748459718</td><td>0.1924</td><td>0.0874</td><td>0.0651</td><td>0.0715</td><td>-99.0</td><td>0.085</td><td>24.362068313504015</td><td>24.13691275831234</td><td>23.4903421668869</td><td>22.7771812514416</td><td>-99.0</td><td>22.319675571065513</td><td>0.10019999742507935</td><td>0.061500001698732376</td><td>0.041999999433755875</td><td>0.04729999974370003</td><td>-99.0</td><td>0.05079999938607216</td><td>0.050325606572622</td><td>0.053197672356357174</td><td>0.05236394621333485</td><td>0.05849246691594745</td><td>-99.0</td><td>0.05358655530891232</td><td>0.5956838665008545</td><td>0</td><td>0</td><td>0</td><td>0</td><td>-99</td><td>0</td><td>0</td><td>1</td><td>213.83257404293818</td><td>51.954175459156346</td><td>22.242716564796865</td><td>0.07076016068458557</td><td>22.100980004346354</td><td>0.03325571492314339</td><td>0.0730669744404987</td><td>0.0</td><td>0.442021906375885</td><td>1</td></tr>\n",
       "</table>"
      ],
      "text/plain": [
       "<Table length=5>\n",
       "        ra                dec         ...  y_radius_arcsec   subaru_source\n",
       "     float64            float64       ...      float64           int64    \n",
       "------------------ ------------------ ... ------------------ -------------\n",
       "213.86862043497314 51.956434203508536 ... 0.6565135717391968             1\n",
       " 213.8101377123772  51.94234801594084 ... 0.7442689538002014             1\n",
       " 213.8484088405561 51.948864964568365 ...              -99.0           -99\n",
       " 213.8317847315735  51.95253867496874 ... 0.4558195173740387             1\n",
       " 213.8325401433694  51.95416678030584 ...  0.442021906375885             1"
      ]
     },
     "execution_count": 3,
     "metadata": {},
     "output_type": "execute_result"
    }
   ],
   "source": [
    "deep2[:5]"
   ]
  },
  {
   "cell_type": "code",
   "execution_count": 4,
   "metadata": {},
   "outputs": [
    {
     "name": "stdout",
     "output_type": "stream",
     "text": [
      "Keep only field 1\n",
      "Remove objects from pointing 14 because they don't have selection weights\n"
     ]
    }
   ],
   "source": [
    "# DEEP2 weights table\n",
    "t = Table.read('/Users/roz18/Documents/Data/DESCQA-Color-Test/selcat.latest.fits')\n",
    "\n",
    "print('Keep only field 1')\n",
    "maskname = np.array(t['MASKNAME'], dtype='int')\n",
    "mask = (maskname>=2000)\n",
    "t = t[~mask]\n",
    "\n",
    "print('Remove objects from pointing 14 because they don\\'t have selection weights')\n",
    "maskname = np.array(t['MASKNAME'], dtype='int')\n",
    "mask = (maskname>=1400) & (maskname<1500)\n",
    "t = t[~mask]"
   ]
  },
  {
   "cell_type": "code",
   "execution_count": 5,
   "metadata": {},
   "outputs": [
    {
     "data": {
      "text/html": [
       "&lt;Table length=5&gt;\n",
       "<table id=\"table4628829136\" class=\"table-striped table-bordered table-condensed\">\n",
       "<thead><tr><th>OBJNO</th><th>MASKNAME</th><th>MJD</th><th>P_ONMASK</th><th>PSEL03</th></tr></thead>\n",
       "<thead><tr><th>int32</th><th>str4</th><th>float32</th><th>float32</th><th>float32</th></tr></thead>\n",
       "<tr><td>11001673</td><td>1101</td><td>52765.457</td><td>0.760847</td><td>0.6355558</td></tr>\n",
       "<tr><td>11001699</td><td>1100</td><td>52762.44</td><td>0.760847</td><td>0.0</td></tr>\n",
       "<tr><td>11001770</td><td>1101</td><td>52765.457</td><td>0.333979</td><td>0.5630587</td></tr>\n",
       "<tr><td>11001800</td><td>1100</td><td>52762.44</td><td>0.37150306</td><td>0.0</td></tr>\n",
       "<tr><td>11001860</td><td>1101</td><td>52765.457</td><td>0.760847</td><td>0.63555574</td></tr>\n",
       "</table>"
      ],
      "text/plain": [
       "<Table length=5>\n",
       " OBJNO   MASKNAME    MJD     P_ONMASK    PSEL03  \n",
       " int32     str4    float32   float32    float32  \n",
       "-------- -------- --------- ---------- ----------\n",
       "11001673     1101 52765.457   0.760847  0.6355558\n",
       "11001699     1100  52762.44   0.760847        0.0\n",
       "11001770     1101 52765.457   0.333979  0.5630587\n",
       "11001800     1100  52762.44 0.37150306        0.0\n",
       "11001860     1101 52765.457   0.760847 0.63555574"
      ]
     },
     "execution_count": 5,
     "metadata": {},
     "output_type": "execute_result"
    }
   ],
   "source": [
    "t[:5]"
   ]
  },
  {
   "cell_type": "code",
   "execution_count": 6,
   "metadata": {
    "collapsed": true
   },
   "outputs": [
    {
     "data": {
      "image/png": "[encoded data removed]",
      "text/plain": [
       "<matplotlib.figure.Figure at 0x113eff710>"
      ]
     },
     "metadata": {},
     "output_type": "display_data"
    }
   ],
   "source": [
    "plt.hist(t['P_ONMASK'], 100)\n",
    "plt.show()"
   ]
  },
  {
   "cell_type": "code",
   "execution_count": 7,
   "metadata": {
    "collapsed": true
   },
   "outputs": [],
   "source": [
    "# Match DEEP3 catalog to the weight table\n",
    "deep2_idx = -1 * np.ones(len(deep2), dtype=int)\n",
    "for index in range(len(deep2)):\n",
    "    match = np.where((t['OBJNO']==deep2['objno_deep2'][index]) & (t['MJD']==deep2['mjd'][index]))[0]\n",
    "    if (len(match)>1):\n",
    "        raise ValueError('more than one match found!')\n",
    "    deep2_idx[index] = match[0]"
   ]
  },
  {
   "cell_type": "code",
   "execution_count": 8,
   "metadata": {
    "collapsed": true
   },
   "outputs": [],
   "source": [
    "deep2['p_onmask'] = t['P_ONMASK'][deep2_idx]"
   ]
  },
  {
   "cell_type": "code",
   "execution_count": 12,
   "metadata": {},
   "outputs": [
    {
     "name": "stdout",
     "output_type": "stream",
     "text": [
      "0.333979\n",
      "0.760847\n"
     ]
    },
    {
     "data": {
      "image/png": "[encoded data removed]",
      "text/plain": [
       "<matplotlib.figure.Figure at 0x111d17e50>"
      ]
     },
     "metadata": {},
     "output_type": "display_data"
    }
   ],
   "source": [
    "print(deep2['p_onmask'].min())\n",
    "print(deep2['p_onmask'].max())\n",
    "plt.hist(deep2['p_onmask'], 100)\n",
    "plt.show()"
   ]
  },
  {
   "cell_type": "code",
   "execution_count": 13,
   "metadata": {
    "collapsed": true
   },
   "outputs": [],
   "source": [
    "deep2.write('/Users/roz18/Documents/Data/DESCQA-Color-Test/DEEP2_uniq_Terapix_Subaru_trimmed_wights_added.fits')"
   ]
  },
  {
   "cell_type": "code",
   "execution_count": null,
   "metadata": {
    "collapsed": true
   },
   "outputs": [],
   "source": []
  }
 ],
 "metadata": {
  "anaconda-cloud": {},
  "kernelspec": {
   "display_name": "Python [Root]",
   "language": "python",
   "name": "Python [Root]"
  },
  "language_info": {
   "codemirror_mode": {
    "name": "ipython",
    "version": 2
   },
   "file_extension": ".py",
   "mimetype": "text/x-python",
   "name": "python",
   "nbconvert_exporter": "python",
   "pygments_lexer": "ipython2",
   "version": "2.7.14"
  }
 },
 "nbformat": 4,
 "nbformat_minor": 2
}
